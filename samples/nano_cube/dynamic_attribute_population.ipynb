{
 "cells": [
  {
   "cell_type": "code",
   "id": "initial_id",
   "metadata": {
    "ExecuteTime": {
     "end_time": "2024-11-24T17:29:13.335330Z",
     "start_time": "2024-11-24T17:29:13.332056Z"
    }
   },
   "source": [
    "import pandas as pd\n",
    "from nanocube import cubed\n",
    "\n",
    "\n",
    "# Load the sample dataset\n",
    "df = pd.DataFrame({\"product\": [\"Apple\", \"Pear\", \"Banana\", \"Apple\", \"Pear\", \"Banana\"],\n",
    "                   \"channel\": [\"Online\", \"Online\", \"Online\", \"Retail\", \"Retail\", \"Retail\"],\n",
    "                   \"customer\": [\"Peter\", \"Peter\", \"Paul\", \"Paul\", \"Mary\", \"Mary\"],\n",
    "                   \"revenue\": [100, 150, 300, 200, 250, 350],\n",
    "                   \"cost\": [50, 90, 150, 100, 150, 175]})\n",
    "cdf = cubed(df)\n",
    "cdf.settings.populate_members = True"
   ],
   "outputs": [],
   "execution_count": 9
  },
  {
   "metadata": {
    "ExecuteTime": {
     "end_time": "2024-11-24T17:29:13.412183Z",
     "start_time": "2024-11-24T17:29:13.342921Z"
    }
   },
   "cell_type": "code",
   "source": [
    "product = cdf.product\n",
    "product\n"
   ],
   "id": "5895ac3d690bef8e",
   "outputs": [
    {
     "ename": "RecursionError",
     "evalue": "maximum recursion depth exceeded",
     "output_type": "error",
     "traceback": [
      "\u001B[0;31m---------------------------------------------------------------------------\u001B[0m",
      "\u001B[0;31mRecursionError\u001B[0m                            Traceback (most recent call last)",
      "Cell \u001B[0;32mIn[10], line 1\u001B[0m\n\u001B[0;32m----> 1\u001B[0m product \u001B[38;5;241m=\u001B[39m \u001B[43mcdf\u001B[49m\u001B[38;5;241;43m.\u001B[39;49m\u001B[43mproduct\u001B[49m\n\u001B[1;32m      2\u001B[0m product\n",
      "File \u001B[0;32m~/PycharmProjects/nanocube/nanocube/cube.py:221\u001B[0m, in \u001B[0;36mCube.__getattr__\u001B[0;34m(self, name)\u001B[0m\n\u001B[1;32m    218\u001B[0m \u001B[38;5;28;01mif\u001B[39;00m name \u001B[38;5;241m==\u001B[39m \u001B[38;5;124m\"\u001B[39m\u001B[38;5;124m_ipython_canary_method_should_not_exist\u001B[39m\u001B[38;5;124m\"\u001B[39m: \u001B[38;5;66;03m# pragma: no cover\u001B[39;00m\n\u001B[1;32m    219\u001B[0m     \u001B[38;5;28;01mraise\u001B[39;00m \u001B[38;5;167;01mAttributeError\u001B[39;00m(\u001B[38;5;124m\"\u001B[39m\u001B[38;5;124mcubedpandas\u001B[39m\u001B[38;5;124m\"\u001B[39m)\n\u001B[0;32m--> 221\u001B[0m context \u001B[38;5;241m=\u001B[39m \u001B[43mCubeContext\u001B[49m\u001B[43m(\u001B[49m\u001B[38;5;28;43mself\u001B[39;49m\u001B[43m,\u001B[49m\u001B[43m \u001B[49m\u001B[43mdynamic_attribute\u001B[49m\u001B[38;5;241;43m=\u001B[39;49m\u001B[38;5;28;43;01mTrue\u001B[39;49;00m\u001B[43m)\u001B[49m\n\u001B[1;32m    223\u001B[0m \u001B[38;5;28;01mif\u001B[39;00m \u001B[38;5;28mstr\u001B[39m(name)\u001B[38;5;241m.\u001B[39mendswith(\u001B[38;5;124m\"\u001B[39m\u001B[38;5;124m_\u001B[39m\u001B[38;5;124m\"\u001B[39m):\n\u001B[1;32m    224\u001B[0m     name \u001B[38;5;241m=\u001B[39m \u001B[38;5;28mstr\u001B[39m(name)[:\u001B[38;5;241m-\u001B[39m\u001B[38;5;241m1\u001B[39m]\n",
      "File \u001B[0;32m~/PycharmProjects/nanocube/nanocube/context/cube_context.py:33\u001B[0m, in \u001B[0;36mCubeContext.__init__\u001B[0;34m(self, cube, dynamic_attribute)\u001B[0m\n\u001B[1;32m     29\u001B[0m         context \u001B[38;5;241m=\u001B[39m ContextResolver\u001B[38;5;241m.\u001B[39mresolve(parent\u001B[38;5;241m=\u001B[39m\u001B[38;5;28mself\u001B[39m, address\u001B[38;5;241m=\u001B[39mmeasure_name,\n\u001B[1;32m     30\u001B[0m                                                  dynamic_attribute\u001B[38;5;241m=\u001B[39m\u001B[38;5;28;01mTrue\u001B[39;00m)\n\u001B[1;32m     31\u001B[0m         \u001B[38;5;28msetattr\u001B[39m(\u001B[38;5;28mself\u001B[39m, measure_name, context)\n\u001B[0;32m---> 33\u001B[0m \u001B[38;5;28;01mfor\u001B[39;00m dimension \u001B[38;5;129;01min\u001B[39;00m \u001B[43mcube\u001B[49m\u001B[38;5;241;43m.\u001B[39;49m\u001B[43mdimensions\u001B[49m:\n\u001B[1;32m     34\u001B[0m     dim_name \u001B[38;5;241m=\u001B[39m dimension\u001B[38;5;241m.\u001B[39mcolumn\u001B[38;5;241m.\u001B[39mreplace(\u001B[38;5;124m\"\u001B[39m\u001B[38;5;124m \u001B[39m\u001B[38;5;124m\"\u001B[39m, \u001B[38;5;124m\"\u001B[39m\u001B[38;5;124m_\u001B[39m\u001B[38;5;124m\"\u001B[39m)\n\u001B[1;32m     35\u001B[0m     \u001B[38;5;28;01mif\u001B[39;00m dim_name \u001B[38;5;129;01mnot\u001B[39;00m \u001B[38;5;129;01min\u001B[39;00m \u001B[38;5;28mself\u001B[39m\u001B[38;5;241m.\u001B[39m\u001B[38;5;18m__dict__\u001B[39m:\n",
      "File \u001B[0;32m~/PycharmProjects/nanocube/nanocube/cube.py:221\u001B[0m, in \u001B[0;36mCube.__getattr__\u001B[0;34m(self, name)\u001B[0m\n\u001B[1;32m    218\u001B[0m \u001B[38;5;28;01mif\u001B[39;00m name \u001B[38;5;241m==\u001B[39m \u001B[38;5;124m\"\u001B[39m\u001B[38;5;124m_ipython_canary_method_should_not_exist\u001B[39m\u001B[38;5;124m\"\u001B[39m: \u001B[38;5;66;03m# pragma: no cover\u001B[39;00m\n\u001B[1;32m    219\u001B[0m     \u001B[38;5;28;01mraise\u001B[39;00m \u001B[38;5;167;01mAttributeError\u001B[39;00m(\u001B[38;5;124m\"\u001B[39m\u001B[38;5;124mcubedpandas\u001B[39m\u001B[38;5;124m\"\u001B[39m)\n\u001B[0;32m--> 221\u001B[0m context \u001B[38;5;241m=\u001B[39m \u001B[43mCubeContext\u001B[49m\u001B[43m(\u001B[49m\u001B[38;5;28;43mself\u001B[39;49m\u001B[43m,\u001B[49m\u001B[43m \u001B[49m\u001B[43mdynamic_attribute\u001B[49m\u001B[38;5;241;43m=\u001B[39;49m\u001B[38;5;28;43;01mTrue\u001B[39;49;00m\u001B[43m)\u001B[49m\n\u001B[1;32m    223\u001B[0m \u001B[38;5;28;01mif\u001B[39;00m \u001B[38;5;28mstr\u001B[39m(name)\u001B[38;5;241m.\u001B[39mendswith(\u001B[38;5;124m\"\u001B[39m\u001B[38;5;124m_\u001B[39m\u001B[38;5;124m\"\u001B[39m):\n\u001B[1;32m    224\u001B[0m     name \u001B[38;5;241m=\u001B[39m \u001B[38;5;28mstr\u001B[39m(name)[:\u001B[38;5;241m-\u001B[39m\u001B[38;5;241m1\u001B[39m]\n",
      "File \u001B[0;32m~/PycharmProjects/nanocube/nanocube/context/cube_context.py:33\u001B[0m, in \u001B[0;36mCubeContext.__init__\u001B[0;34m(self, cube, dynamic_attribute)\u001B[0m\n\u001B[1;32m     29\u001B[0m         context \u001B[38;5;241m=\u001B[39m ContextResolver\u001B[38;5;241m.\u001B[39mresolve(parent\u001B[38;5;241m=\u001B[39m\u001B[38;5;28mself\u001B[39m, address\u001B[38;5;241m=\u001B[39mmeasure_name,\n\u001B[1;32m     30\u001B[0m                                                  dynamic_attribute\u001B[38;5;241m=\u001B[39m\u001B[38;5;28;01mTrue\u001B[39;00m)\n\u001B[1;32m     31\u001B[0m         \u001B[38;5;28msetattr\u001B[39m(\u001B[38;5;28mself\u001B[39m, measure_name, context)\n\u001B[0;32m---> 33\u001B[0m \u001B[38;5;28;01mfor\u001B[39;00m dimension \u001B[38;5;129;01min\u001B[39;00m \u001B[43mcube\u001B[49m\u001B[38;5;241;43m.\u001B[39;49m\u001B[43mdimensions\u001B[49m:\n\u001B[1;32m     34\u001B[0m     dim_name \u001B[38;5;241m=\u001B[39m dimension\u001B[38;5;241m.\u001B[39mcolumn\u001B[38;5;241m.\u001B[39mreplace(\u001B[38;5;124m\"\u001B[39m\u001B[38;5;124m \u001B[39m\u001B[38;5;124m\"\u001B[39m, \u001B[38;5;124m\"\u001B[39m\u001B[38;5;124m_\u001B[39m\u001B[38;5;124m\"\u001B[39m)\n\u001B[1;32m     35\u001B[0m     \u001B[38;5;28;01mif\u001B[39;00m dim_name \u001B[38;5;129;01mnot\u001B[39;00m \u001B[38;5;129;01min\u001B[39;00m \u001B[38;5;28mself\u001B[39m\u001B[38;5;241m.\u001B[39m\u001B[38;5;18m__dict__\u001B[39m:\n",
      "    \u001B[0;31m[... skipping similar frames: Cube.__getattr__ at line 221 (1484 times), CubeContext.__init__ at line 33 (1483 times)]\u001B[0m\n",
      "File \u001B[0;32m~/PycharmProjects/nanocube/nanocube/context/cube_context.py:33\u001B[0m, in \u001B[0;36mCubeContext.__init__\u001B[0;34m(self, cube, dynamic_attribute)\u001B[0m\n\u001B[1;32m     29\u001B[0m         context \u001B[38;5;241m=\u001B[39m ContextResolver\u001B[38;5;241m.\u001B[39mresolve(parent\u001B[38;5;241m=\u001B[39m\u001B[38;5;28mself\u001B[39m, address\u001B[38;5;241m=\u001B[39mmeasure_name,\n\u001B[1;32m     30\u001B[0m                                                  dynamic_attribute\u001B[38;5;241m=\u001B[39m\u001B[38;5;28;01mTrue\u001B[39;00m)\n\u001B[1;32m     31\u001B[0m         \u001B[38;5;28msetattr\u001B[39m(\u001B[38;5;28mself\u001B[39m, measure_name, context)\n\u001B[0;32m---> 33\u001B[0m \u001B[38;5;28;01mfor\u001B[39;00m dimension \u001B[38;5;129;01min\u001B[39;00m \u001B[43mcube\u001B[49m\u001B[38;5;241;43m.\u001B[39;49m\u001B[43mdimensions\u001B[49m:\n\u001B[1;32m     34\u001B[0m     dim_name \u001B[38;5;241m=\u001B[39m dimension\u001B[38;5;241m.\u001B[39mcolumn\u001B[38;5;241m.\u001B[39mreplace(\u001B[38;5;124m\"\u001B[39m\u001B[38;5;124m \u001B[39m\u001B[38;5;124m\"\u001B[39m, \u001B[38;5;124m\"\u001B[39m\u001B[38;5;124m_\u001B[39m\u001B[38;5;124m\"\u001B[39m)\n\u001B[1;32m     35\u001B[0m     \u001B[38;5;28;01mif\u001B[39;00m dim_name \u001B[38;5;129;01mnot\u001B[39;00m \u001B[38;5;129;01min\u001B[39;00m \u001B[38;5;28mself\u001B[39m\u001B[38;5;241m.\u001B[39m\u001B[38;5;18m__dict__\u001B[39m:\n",
      "File \u001B[0;32m~/PycharmProjects/nanocube/nanocube/cube.py:221\u001B[0m, in \u001B[0;36mCube.__getattr__\u001B[0;34m(self, name)\u001B[0m\n\u001B[1;32m    218\u001B[0m \u001B[38;5;28;01mif\u001B[39;00m name \u001B[38;5;241m==\u001B[39m \u001B[38;5;124m\"\u001B[39m\u001B[38;5;124m_ipython_canary_method_should_not_exist\u001B[39m\u001B[38;5;124m\"\u001B[39m: \u001B[38;5;66;03m# pragma: no cover\u001B[39;00m\n\u001B[1;32m    219\u001B[0m     \u001B[38;5;28;01mraise\u001B[39;00m \u001B[38;5;167;01mAttributeError\u001B[39;00m(\u001B[38;5;124m\"\u001B[39m\u001B[38;5;124mcubedpandas\u001B[39m\u001B[38;5;124m\"\u001B[39m)\n\u001B[0;32m--> 221\u001B[0m context \u001B[38;5;241m=\u001B[39m \u001B[43mCubeContext\u001B[49m\u001B[43m(\u001B[49m\u001B[38;5;28;43mself\u001B[39;49m\u001B[43m,\u001B[49m\u001B[43m \u001B[49m\u001B[43mdynamic_attribute\u001B[49m\u001B[38;5;241;43m=\u001B[39;49m\u001B[38;5;28;43;01mTrue\u001B[39;49;00m\u001B[43m)\u001B[49m\n\u001B[1;32m    223\u001B[0m \u001B[38;5;28;01mif\u001B[39;00m \u001B[38;5;28mstr\u001B[39m(name)\u001B[38;5;241m.\u001B[39mendswith(\u001B[38;5;124m\"\u001B[39m\u001B[38;5;124m_\u001B[39m\u001B[38;5;124m\"\u001B[39m):\n\u001B[1;32m    224\u001B[0m     name \u001B[38;5;241m=\u001B[39m \u001B[38;5;28mstr\u001B[39m(name)[:\u001B[38;5;241m-\u001B[39m\u001B[38;5;241m1\u001B[39m]\n",
      "File \u001B[0;32m~/PycharmProjects/nanocube/nanocube/context/cube_context.py:29\u001B[0m, in \u001B[0;36mCubeContext.__init__\u001B[0;34m(self, cube, dynamic_attribute)\u001B[0m\n\u001B[1;32m     27\u001B[0m     \u001B[38;5;28;01mif\u001B[39;00m measure_name \u001B[38;5;129;01mnot\u001B[39;00m \u001B[38;5;129;01min\u001B[39;00m \u001B[38;5;28mself\u001B[39m\u001B[38;5;241m.\u001B[39m\u001B[38;5;18m__dict__\u001B[39m:\n\u001B[1;32m     28\u001B[0m         \u001B[38;5;28;01mfrom\u001B[39;00m \u001B[38;5;21;01mnanocube\u001B[39;00m\u001B[38;5;21;01m.\u001B[39;00m\u001B[38;5;21;01mcontext\u001B[39;00m\u001B[38;5;21;01m.\u001B[39;00m\u001B[38;5;21;01mcontext_resolver\u001B[39;00m \u001B[38;5;28;01mimport\u001B[39;00m ContextResolver\n\u001B[0;32m---> 29\u001B[0m         context \u001B[38;5;241m=\u001B[39m \u001B[43mContextResolver\u001B[49m\u001B[38;5;241;43m.\u001B[39;49m\u001B[43mresolve\u001B[49m\u001B[43m(\u001B[49m\u001B[43mparent\u001B[49m\u001B[38;5;241;43m=\u001B[39;49m\u001B[38;5;28;43mself\u001B[39;49m\u001B[43m,\u001B[49m\u001B[43m \u001B[49m\u001B[43maddress\u001B[49m\u001B[38;5;241;43m=\u001B[39;49m\u001B[43mmeasure_name\u001B[49m\u001B[43m,\u001B[49m\n\u001B[1;32m     30\u001B[0m \u001B[43m                                                 \u001B[49m\u001B[43mdynamic_attribute\u001B[49m\u001B[38;5;241;43m=\u001B[39;49m\u001B[38;5;28;43;01mTrue\u001B[39;49;00m\u001B[43m)\u001B[49m\n\u001B[1;32m     31\u001B[0m         \u001B[38;5;28msetattr\u001B[39m(\u001B[38;5;28mself\u001B[39m, measure_name, context)\n\u001B[1;32m     33\u001B[0m \u001B[38;5;28;01mfor\u001B[39;00m dimension \u001B[38;5;129;01min\u001B[39;00m cube\u001B[38;5;241m.\u001B[39mdimensions:\n",
      "File \u001B[0;32m~/PycharmProjects/nanocube/nanocube/context/context_resolver.py:91\u001B[0m, in \u001B[0;36mContextResolver.resolve\u001B[0;34m(parent, address, dynamic_attribute, target_dimension)\u001B[0m\n\u001B[1;32m     89\u001B[0m     \u001B[38;5;66;03m# set the measure for the context to the new resolved measure\u001B[39;00m\n\u001B[1;32m     90\u001B[0m     measure \u001B[38;5;241m=\u001B[39m cube\u001B[38;5;241m.\u001B[39mschema\u001B[38;5;241m.\u001B[39mmeasures[address]\n\u001B[0;32m---> 91\u001B[0m     resolved_context \u001B[38;5;241m=\u001B[39m \u001B[43mMeasureContext\u001B[49m\u001B[43m(\u001B[49m\u001B[43mcube\u001B[49m\u001B[38;5;241;43m=\u001B[39;49m\u001B[43mcube\u001B[49m\u001B[43m,\u001B[49m\u001B[43m \u001B[49m\u001B[43mparent\u001B[49m\u001B[38;5;241;43m=\u001B[39;49m\u001B[43mparent\u001B[49m\u001B[43m,\u001B[49m\u001B[43m \u001B[49m\u001B[43maddress\u001B[49m\u001B[38;5;241;43m=\u001B[39;49m\u001B[43maddress\u001B[49m\u001B[43m,\u001B[49m\u001B[43m \u001B[49m\u001B[43mrow_mask\u001B[49m\u001B[38;5;241;43m=\u001B[39;49m\u001B[43mrow_mask\u001B[49m\u001B[43m,\u001B[49m\n\u001B[1;32m     92\u001B[0m \u001B[43m                                      \u001B[49m\u001B[43mmeasure\u001B[49m\u001B[38;5;241;43m=\u001B[39;49m\u001B[43mmeasure\u001B[49m\u001B[43m,\u001B[49m\u001B[43m \u001B[49m\u001B[43mdimension\u001B[49m\u001B[38;5;241;43m=\u001B[39;49m\u001B[43mdimension\u001B[49m\u001B[43m,\u001B[49m\u001B[43m \u001B[49m\u001B[43mresolve\u001B[49m\u001B[38;5;241;43m=\u001B[39;49m\u001B[38;5;28;43;01mFalse\u001B[39;49;00m\u001B[43m)\u001B[49m\n\u001B[1;32m     93\u001B[0m     \u001B[38;5;28;01mreturn\u001B[39;00m resolved_context\n\u001B[1;32m     95\u001B[0m \u001B[38;5;66;03m# 3.3. Check for names of dimensions\u001B[39;00m\n",
      "File \u001B[0;32m~/PycharmProjects/nanocube/nanocube/context/measure_context.py:26\u001B[0m, in \u001B[0;36mMeasureContext.__init__\u001B[0;34m(self, cube, parent, address, row_mask, measure, dimension, resolve, filtered)\u001B[0m\n\u001B[1;32m     22\u001B[0m \u001B[38;5;28;01mdef\u001B[39;00m \u001B[38;5;21m__init__\u001B[39m(\u001B[38;5;28mself\u001B[39m, cube: Cube, parent: Context \u001B[38;5;241m|\u001B[39m \u001B[38;5;28;01mNone\u001B[39;00m \u001B[38;5;241m=\u001B[39m \u001B[38;5;28;01mNone\u001B[39;00m, address: Any \u001B[38;5;241m=\u001B[39m \u001B[38;5;28;01mNone\u001B[39;00m, row_mask: np\u001B[38;5;241m.\u001B[39mndarray \u001B[38;5;241m|\u001B[39m \u001B[38;5;28;01mNone\u001B[39;00m \u001B[38;5;241m=\u001B[39m \u001B[38;5;28;01mNone\u001B[39;00m,\n\u001B[1;32m     23\u001B[0m              measure: Measure \u001B[38;5;241m|\u001B[39m \u001B[38;5;28;01mNone\u001B[39;00m \u001B[38;5;241m=\u001B[39m \u001B[38;5;28;01mNone\u001B[39;00m, dimension: Dimension \u001B[38;5;241m|\u001B[39m \u001B[38;5;28;01mNone\u001B[39;00m \u001B[38;5;241m=\u001B[39m \u001B[38;5;28;01mNone\u001B[39;00m, resolve: \u001B[38;5;28mbool\u001B[39m \u001B[38;5;241m=\u001B[39m \u001B[38;5;28;01mTrue\u001B[39;00m,\n\u001B[1;32m     24\u001B[0m              filtered: \u001B[38;5;28mbool\u001B[39m \u001B[38;5;241m=\u001B[39m \u001B[38;5;28;01mFalse\u001B[39;00m):\n\u001B[1;32m     25\u001B[0m     \u001B[38;5;28mself\u001B[39m\u001B[38;5;241m.\u001B[39m_filtered: \u001B[38;5;28mbool\u001B[39m \u001B[38;5;241m=\u001B[39m filtered\n\u001B[0;32m---> 26\u001B[0m     \u001B[38;5;28;43msuper\u001B[39;49m\u001B[43m(\u001B[49m\u001B[43m)\u001B[49m\u001B[38;5;241;43m.\u001B[39;49m\u001B[38;5;21;43m__init__\u001B[39;49m\u001B[43m(\u001B[49m\u001B[43mcube\u001B[49m\u001B[38;5;241;43m=\u001B[39;49m\u001B[43mcube\u001B[49m\u001B[43m,\u001B[49m\u001B[43m \u001B[49m\u001B[43maddress\u001B[49m\u001B[38;5;241;43m=\u001B[39;49m\u001B[43maddress\u001B[49m\u001B[43m,\u001B[49m\u001B[43m \u001B[49m\u001B[43mparent\u001B[49m\u001B[38;5;241;43m=\u001B[39;49m\u001B[43mparent\u001B[49m\u001B[43m,\u001B[49m\u001B[43m \u001B[49m\u001B[43mrow_mask\u001B[49m\u001B[38;5;241;43m=\u001B[39;49m\u001B[43mrow_mask\u001B[49m\u001B[43m,\u001B[49m\n\u001B[1;32m     27\u001B[0m \u001B[43m                     \u001B[49m\u001B[43mmeasure\u001B[49m\u001B[38;5;241;43m=\u001B[39;49m\u001B[43mmeasure\u001B[49m\u001B[43m,\u001B[49m\u001B[43m \u001B[49m\u001B[43mdimension\u001B[49m\u001B[38;5;241;43m=\u001B[39;49m\u001B[43mdimension\u001B[49m\u001B[43m,\u001B[49m\u001B[43m \u001B[49m\u001B[43mresolve\u001B[49m\u001B[38;5;241;43m=\u001B[39;49m\u001B[43mresolve\u001B[49m\u001B[43m,\u001B[49m\u001B[43m \u001B[49m\u001B[43mfiltered\u001B[49m\u001B[38;5;241;43m=\u001B[39;49m\u001B[43mfiltered\u001B[49m\u001B[43m)\u001B[49m\n",
      "File \u001B[0;32m~/PycharmProjects/nanocube/nanocube/context/context.py:66\u001B[0m, in \u001B[0;36mContext.__init__\u001B[0;34m(self, cube, address, parent, row_mask, member_mask, measure, dimension, function, resolve, filtered, dynamic_attribute)\u001B[0m\n\u001B[1;32m     64\u001B[0m \u001B[38;5;28mself\u001B[39m\u001B[38;5;241m.\u001B[39m_address \u001B[38;5;241m=\u001B[39m address\n\u001B[1;32m     65\u001B[0m \u001B[38;5;28mself\u001B[39m\u001B[38;5;241m.\u001B[39m_parent: Context \u001B[38;5;241m=\u001B[39m parent\n\u001B[0;32m---> 66\u001B[0m \u001B[38;5;28mself\u001B[39m\u001B[38;5;241m.\u001B[39m_df: pd\u001B[38;5;241m.\u001B[39mDataFrame \u001B[38;5;241m=\u001B[39m \u001B[43mcube\u001B[49m\u001B[38;5;241;43m.\u001B[39;49m\u001B[43mdf\u001B[49m\n\u001B[1;32m     67\u001B[0m \u001B[38;5;28mself\u001B[39m\u001B[38;5;241m.\u001B[39m_row_mask: np\u001B[38;5;241m.\u001B[39mndarray \u001B[38;5;241m|\u001B[39m \u001B[38;5;28;01mNone\u001B[39;00m \u001B[38;5;241m=\u001B[39m row_mask\n\u001B[1;32m     68\u001B[0m \u001B[38;5;28mself\u001B[39m\u001B[38;5;241m.\u001B[39m_member_mask: np\u001B[38;5;241m.\u001B[39mndarray \u001B[38;5;241m|\u001B[39m \u001B[38;5;28;01mNone\u001B[39;00m \u001B[38;5;241m=\u001B[39m member_mask\n",
      "\u001B[0;31mRecursionError\u001B[0m: maximum recursion depth exceeded"
     ]
    }
   ],
   "execution_count": 10
  },
  {
   "metadata": {
    "ExecuteTime": {
     "end_time": "2024-11-24T17:29:13.418234Z",
     "start_time": "2024-11-24T17:28:53.413155Z"
    }
   },
   "cell_type": "code",
   "source": "product.Apple.Pear",
   "id": "4ee290a9c7a57c45",
   "outputs": [
    {
     "ename": "NameError",
     "evalue": "name 'product' is not defined",
     "output_type": "error",
     "traceback": [
      "\u001B[0;31m---------------------------------------------------------------------------\u001B[0m",
      "\u001B[0;31mNameError\u001B[0m                                 Traceback (most recent call last)",
      "Cell \u001B[0;32mIn[6], line 1\u001B[0m\n\u001B[0;32m----> 1\u001B[0m \u001B[43mproduct\u001B[49m\u001B[38;5;241m.\u001B[39mApple\u001B[38;5;241m.\u001B[39mPear\n",
      "\u001B[0;31mNameError\u001B[0m: name 'product' is not defined"
     ]
    }
   ],
   "execution_count": 6
  },
  {
   "metadata": {},
   "cell_type": "code",
   "outputs": [],
   "execution_count": null,
   "source": "product.Apple.Pear.Banana",
   "id": "c57210dbbf53dd7f"
  },
  {
   "metadata": {},
   "cell_type": "code",
   "outputs": [],
   "execution_count": null,
   "source": "",
   "id": "babd9408b067c9e3"
  }
 ],
 "metadata": {
  "kernelspec": {
   "display_name": "Python 3 (ipykernel)",
   "language": "python",
   "name": "python3"
  },
  "language_info": {
   "codemirror_mode": {
    "name": "ipython",
    "version": 3
   },
   "file_extension": ".py",
   "mimetype": "text/x-python",
   "name": "python",
   "nbconvert_exporter": "python",
   "pygments_lexer": "ipython3",
   "version": "3.11.0"
  }
 },
 "nbformat": 4,
 "nbformat_minor": 5
}
